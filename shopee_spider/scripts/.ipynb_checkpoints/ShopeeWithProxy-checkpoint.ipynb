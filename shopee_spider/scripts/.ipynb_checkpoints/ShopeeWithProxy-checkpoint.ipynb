{
 "cells": [
  {
   "cell_type": "code",
   "execution_count": 3,
   "metadata": {},
   "outputs": [],
   "source": [
    "import requests\n",
    "import urllib.parse\n",
    "from selenium import webdriver\n",
    "from selenium.webdriver.chrome.options import Options\n",
    "import logging\n",
    "from proxy_collector import ProxyCollector\n",
    "import random\n",
    "import shopee"
   ]
  },
  {
   "cell_type": "code",
   "execution_count": 2,
   "metadata": {},
   "outputs": [],
   "source": [
    "def r(nameOfModule):\n",
    "    import importlib\n",
    "    importlib.reload(nameOfModule)\n",
    "    print(\"{} reloaded.\".format(nameOfModule))"
   ]
  },
  {
   "cell_type": "code",
   "execution_count": 10,
   "metadata": {},
   "outputs": [],
   "source": [
    "spider = shopee.shopeeSpider()\n",
    "keyword = \"marshall stockwell\"\n",
    "newest=0\n",
    "headers = spider.structured_headers_and_keywords(keyword)\n",
    "formatted_link = 'https://shopee.tw/api/v2/search_items/?by=relevancy&keyword={keyword}&limit=50&newest={newest}&order=desc&page_type=search&version=2'.format(\n",
    "            keyword=keyword,\n",
    "            newest=newest\n",
    "        )\n"
   ]
  },
  {
   "cell_type": "code",
   "execution_count": 37,
   "metadata": {},
   "outputs": [
    {
     "name": "stdout",
     "output_type": "stream",
     "text": [
      "All test passed.\n"
     ]
    }
   ],
   "source": [
    "# Can we get item price with proxy?\n",
    "proxies = ['202.5.56.71:8080', '118.137.146.95:8080', '51.158.114.177:8811', '36.92.35.73:3128', '180.189.168.66:3129', '103.76.45.142:8080', '51.158.123.250:8811', '41.180.64.254:80', '110.78.20.62:3128', '165.16.34.2:8080']\n",
    "proxy = random.choice(proxies)\n",
    "proxy = spider.format_proxy_with_http(proxy)\n",
    "proxy = {'http': proxy, 'https': proxy}\n",
    "\n",
    "req = requests.get(formatted_link, headers=headers, proxies=proxy, timeout=10) \n",
    "response = req.json()\n",
    "items = response['items']\n",
    "\n",
    "# print(items[0]['price'])\n",
    "assert type(items[0]['price']) is int\n",
    "print(\"All test passed.\")"
   ]
  },
  {
   "cell_type": "code",
   "execution_count": null,
   "metadata": {},
   "outputs": [],
   "source": []
  },
  {
   "cell_type": "code",
   "execution_count": null,
   "metadata": {},
   "outputs": [],
   "source": []
  },
  {
   "cell_type": "code",
   "execution_count": null,
   "metadata": {},
   "outputs": [],
   "source": []
  },
  {
   "cell_type": "code",
   "execution_count": null,
   "metadata": {},
   "outputs": [],
   "source": []
  },
  {
   "cell_type": "code",
   "execution_count": null,
   "metadata": {},
   "outputs": [],
   "source": []
  },
  {
   "cell_type": "code",
   "execution_count": 47,
   "metadata": {},
   "outputs": [
    {
     "name": "stdout",
     "output_type": "stream",
     "text": [
      "https://shopee.tw/search?keyword=Marshall\n",
      "\n",
      "{'http': 'http://51.158.123.250:8811', 'https': 'http://51.158.123.250:8811'}\n"
     ]
    }
   ],
   "source": [
    "print(headers['referer'])\n",
    "assert headers['referer'].split('=')[1] == keyword\n",
    "print()\n",
    "print(proxy)"
   ]
  },
  {
   "cell_type": "code",
   "execution_count": 45,
   "metadata": {},
   "outputs": [
    {
     "data": {
      "text/plain": [
       "'Marshall'"
      ]
     },
     "execution_count": 45,
     "metadata": {},
     "output_type": "execute_result"
    }
   ],
   "source": []
  },
  {
   "cell_type": "code",
   "execution_count": null,
   "metadata": {},
   "outputs": [],
   "source": []
  }
 ],
 "metadata": {
  "kernelspec": {
   "display_name": "Python 3",
   "language": "python",
   "name": "python3"
  },
  "language_info": {
   "codemirror_mode": {
    "name": "ipython",
    "version": 3
   },
   "file_extension": ".py",
   "mimetype": "text/x-python",
   "name": "python",
   "nbconvert_exporter": "python",
   "pygments_lexer": "ipython3",
   "version": "3.8.1"
  }
 },
 "nbformat": 4,
 "nbformat_minor": 4
}
