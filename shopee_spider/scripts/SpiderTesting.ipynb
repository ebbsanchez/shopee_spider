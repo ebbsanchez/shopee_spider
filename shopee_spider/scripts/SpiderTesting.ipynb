{
 "cells": [
  {
   "cell_type": "code",
   "execution_count": 62,
   "metadata": {},
   "outputs": [
    {
     "name": "stdout",
     "output_type": "stream",
     "text": [
      "<module 'shopee' from '/Users/pc1/Documents/Python/spider/projects/shopee/market_moniter/shopee_spider/scripts/shopee.py'> reloaded.\n"
     ]
    }
   ],
   "source": [
    "from shopee import r, shopeeSpider\n",
    "shopee.r(shopee)\n",
    "spider = shopeeSpider()"
   ]
  },
  {
   "cell_type": "code",
   "execution_count": null,
   "metadata": {},
   "outputs": [],
   "source": []
  },
  {
   "cell_type": "code",
   "execution_count": 61,
   "metadata": {},
   "outputs": [
    {
     "name": "stdout",
     "output_type": "stream",
     "text": [
      "[fetch_items()] <200> 50/120 items\n"
     ]
    }
   ],
   "source": [
    "items = spider.search(keyword=\"Bose Soundlink Micro\", limit=1)"
   ]
  },
  {
   "cell_type": "code",
   "execution_count": 63,
   "metadata": {},
   "outputs": [
    {
     "data": {
      "text/plain": [
       "{'itemid': 4609733173,\n",
       " 'shopid': 49015986,\n",
       " 'name': '原廠全新 BOSE SoundSport Free 藍牙耳機 真無線 入耳式耳塞 運動降噪 博士耳麥',\n",
       " 'item_status': 'normal',\n",
       " 'image': '7e8a82d7a17c32de93f84d7f58e02f45',\n",
       " 'images': ['7e8a82d7a17c32de93f84d7f58e02f45',\n",
       "  '55ef503232101632c0460974a817065f',\n",
       "  'ca2dd50e912fd0d7a871c783f425589d',\n",
       "  'bc26108778f5bf489fffd91226d74b47',\n",
       "  'b9885b3d498adafa928c2051f46ceef9',\n",
       "  '137f13dc252dd65f61ebd71e72ec5ce1',\n",
       "  'cb7ed59a20976470a218fe6edb49d88e',\n",
       "  'a47fad767073288218cda5121609b7a6'],\n",
       " 'brand': 'BOSE(博士)',\n",
       " 'liked_count': 10,\n",
       " 'view_count': 168,\n",
       " 'stock': 87,\n",
       " 'price': 1200.0,\n",
       " 'price_min': 1200.0,\n",
       " 'price_max': 1200.0,\n",
       " 'currency': 'TWD',\n",
       " 'url': 'https://shopee.tw/原廠全新-BOSE-SoundSport-Free-藍牙耳機-真無線-入耳式耳塞-運動降噪-博士耳麥-i.49015986.4609733173',\n",
       " 'tag_name': 'Bose Soundlink Micro'}"
      ]
     },
     "execution_count": 63,
     "metadata": {},
     "output_type": "execute_result"
    }
   ],
   "source": [
    "items[0]"
   ]
  },
  {
   "cell_type": "code",
   "execution_count": 34,
   "metadata": {},
   "outputs": [
    {
     "data": {
      "text/plain": [
       "'https://shopee.tw/Bose-SoundSport-Free-藍牙耳機無線入耳式耳塞運動降噪博士耳麥-保固一年-i.51681363.7618167808'"
      ]
     },
     "execution_count": 34,
     "metadata": {},
     "output_type": "execute_result"
    }
   ],
   "source": [
    "make_item_url(items[0]['name'], items[0]['shopid'], items[0]['itemid'] )"
   ]
  },
  {
   "cell_type": "code",
   "execution_count": 35,
   "metadata": {},
   "outputs": [
    {
     "data": {
      "text/plain": [
       "{'itemid': 7618167808,\n",
       " 'welcome_package_info': None,\n",
       " 'liked': False,\n",
       " 'recommendation_info': None,\n",
       " 'bundle_deal_info': None,\n",
       " 'price_max_before_discount': -1,\n",
       " 'image': '6de8dcde439a69e18db4b71da6919adf',\n",
       " 'is_cc_installment_payment_eligible': False,\n",
       " 'shopid': 51681363,\n",
       " 'can_use_wholesale': False,\n",
       " 'group_buy_info': None,\n",
       " 'reference_item_id': '',\n",
       " 'currency': 'TWD',\n",
       " 'raw_discount': 0,\n",
       " 'show_free_shipping': False,\n",
       " 'video_info_list': [],\n",
       " 'ads_keyword': 'bose',\n",
       " 'collection_id': None,\n",
       " 'images': ['6de8dcde439a69e18db4b71da6919adf',\n",
       "  '55ef503232101632c0460974a817065f',\n",
       "  '69c31bd3ee5a032a1fb33d05d9294f0a',\n",
       "  '6e6152183e7f745b0de8a271878af9c8'],\n",
       " 'match_type': 1,\n",
       " 'price_before_discount': 0,\n",
       " 'is_category_failed': False,\n",
       " 'show_discount': 0,\n",
       " 'cmt_count': 0,\n",
       " 'view_count': 75,\n",
       " 'display_name': None,\n",
       " 'catid': 70,\n",
       " 'json_data': 'Cg8yLmEuMTRAQUJDRkdISTBoAg==',\n",
       " 'upcoming_flash_sale': None,\n",
       " 'is_official_shop': False,\n",
       " 'brand': 'BOSE(博士)',\n",
       " 'price_min': 125000000,\n",
       " 'liked_count': 3,\n",
       " 'can_use_bundle_deal': False,\n",
       " 'show_official_shop_label': False,\n",
       " 'coin_earn_label': None,\n",
       " 'price_min_before_discount': -1,\n",
       " 'cb_option': 0,\n",
       " 'sold': 0,\n",
       " 'deduction_info': 'ejV0bmV4ZnA5dmo3MnloNI4uSwVIDLaERAJKeMLX7/41ZtQmRQSR4HaVOWARCUM5OhY/usuMmNNfYFG010Nz7dtrU68EtNRMHIVRR9UG7Ds=',\n",
       " 'stock': 20,\n",
       " 'status': 1,\n",
       " 'price_max': 125000000,\n",
       " 'add_on_deal_info': None,\n",
       " 'is_group_buy_item': None,\n",
       " 'flash_sale': None,\n",
       " 'price': 125000000,\n",
       " 'shop_location': '新北市泰山區',\n",
       " 'item_rating': {'rating_star': 0,\n",
       "  'rating_count': [0, 0, 0, 0, 0, 0],\n",
       "  'rcount_with_image': 0,\n",
       "  'rcount_with_context': 0},\n",
       " 'show_official_shop_label_in_title': False,\n",
       " 'tier_variations': [{'images': ['55ef503232101632c0460974a817065f'],\n",
       "   'properties': None,\n",
       "   'type': 0,\n",
       "   'name': '顏色',\n",
       "   'options': ['黑色【台灣現貨】']}],\n",
       " 'is_adult': None,\n",
       " 'discount': None,\n",
       " 'flag': 196608,\n",
       " 'is_non_cc_installment_payment_eligible': False,\n",
       " 'has_lowest_price_guarantee': False,\n",
       " 'has_group_buy_stock': False,\n",
       " 'preview_info': None,\n",
       " 'welcome_package_type': 0,\n",
       " 'name': 'Bose SoundSport Free 藍牙耳機無線入耳式耳塞運動降噪博士耳麥 保固一年',\n",
       " 'distance': None,\n",
       " 'adsid': 2984875,\n",
       " 'ctime': 1582954827,\n",
       " 'wholesale_tier_list': [],\n",
       " 'show_shopee_verified_label': False,\n",
       " 'campaignid': 2408360,\n",
       " 'show_official_shop_label_in_normal_position': None,\n",
       " 'item_status': 'normal',\n",
       " 'shopee_verified': False,\n",
       " 'hidden_price_display': None,\n",
       " 'size_chart': None,\n",
       " 'item_type': 0,\n",
       " 'shipping_icon_type': None,\n",
       " 'campaign_stock': None,\n",
       " 'label_ids': [],\n",
       " 'service_by_shopee_flag': 0,\n",
       " 'badge_icon_type': 0,\n",
       " 'historical_sold': 0,\n",
       " 'transparent_background_image': ''}"
      ]
     },
     "execution_count": 35,
     "metadata": {},
     "output_type": "execute_result"
    }
   ],
   "source": [
    "items[0]"
   ]
  },
  {
   "cell_type": "code",
   "execution_count": 41,
   "metadata": {},
   "outputs": [
    {
     "data": {
      "text/plain": [
       "int"
      ]
     },
     "execution_count": 41,
     "metadata": {},
     "output_type": "execute_result"
    }
   ],
   "source": [
    "type(items[0]['price'])"
   ]
  },
  {
   "cell_type": "code",
   "execution_count": null,
   "metadata": {},
   "outputs": [],
   "source": []
  }
 ],
 "metadata": {
  "kernelspec": {
   "display_name": "Python 3",
   "language": "python",
   "name": "python3"
  },
  "language_info": {
   "codemirror_mode": {
    "name": "ipython",
    "version": 3
   },
   "file_extension": ".py",
   "mimetype": "text/x-python",
   "name": "python",
   "nbconvert_exporter": "python",
   "pygments_lexer": "ipython3",
   "version": "3.8.1"
  }
 },
 "nbformat": 4,
 "nbformat_minor": 4
}
